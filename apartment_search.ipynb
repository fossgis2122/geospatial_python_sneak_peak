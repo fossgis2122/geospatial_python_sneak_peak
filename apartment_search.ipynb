{
 "cells": [
  {
   "cell_type": "markdown",
   "metadata": {},
   "source": [
    "# Apartment search using ORS and Ohsome API \n"
   ]
  },
  {
   "cell_type": "markdown",
   "metadata": {},
   "source": [
    "In this notebook, we will perform a search for a new apartment in Hamburg based on the surrounding amenities. In addition to popular python packages for geospatial data processing such as `geopandas` we will also use the openrouteservice and ohsome APIs.  \n",
    "\n",
    "**Execute each cell one by one first** to see how it works by clicking **the `Run` button** in the menu above or **pressing `Shift` + `Enter`** on your keyboard. Afterwards, go through the notebook again and change some of paramters in the cell where it says \"**Exercise**\" and execute the following cells to run the analysis with different parameters."
   ]
  },
  {
   "cell_type": "markdown",
   "metadata": {},
   "source": [
    "## Some required Python Basics"
   ]
  },
  {
   "cell_type": "markdown",
   "metadata": {},
   "source": [
    "Before we get starte, there are some basics in python that you need to understand. In Python there are variables or objects which can hold different types of values. "
   ]
  },
  {
   "cell_type": "markdown",
   "metadata": {},
   "source": [
    "**Numbers** "
   ]
  },
  {
   "cell_type": "code",
   "execution_count": null,
   "metadata": {},
   "outputs": [],
   "source": [
    "x = 5\n",
    "y = 4.2"
   ]
  },
  {
   "cell_type": "code",
   "execution_count": null,
   "metadata": {},
   "outputs": [],
   "source": [
    "x"
   ]
  },
  {
   "cell_type": "code",
   "execution_count": null,
   "metadata": {},
   "outputs": [],
   "source": [
    "y"
   ]
  },
  {
   "cell_type": "markdown",
   "metadata": {},
   "source": [
    "**Characters**"
   ]
  },
  {
   "cell_type": "code",
   "execution_count": null,
   "metadata": {},
   "outputs": [],
   "source": [
    "x = \"hello\""
   ]
  },
  {
   "cell_type": "code",
   "execution_count": null,
   "metadata": {},
   "outputs": [],
   "source": [
    "x"
   ]
  },
  {
   "cell_type": "markdown",
   "metadata": {},
   "source": [
    "**Lists**"
   ]
  },
  {
   "cell_type": "code",
   "execution_count": null,
   "metadata": {},
   "outputs": [],
   "source": [
    "l = [1,2,6]"
   ]
  },
  {
   "cell_type": "code",
   "execution_count": null,
   "metadata": {},
   "outputs": [],
   "source": [
    "l"
   ]
  },
  {
   "cell_type": "markdown",
   "metadata": {},
   "source": [
    "**Dictionaries** consisting of key-value pairs"
   ]
  },
  {
   "cell_type": "code",
   "execution_count": null,
   "metadata": {},
   "outputs": [],
   "source": [
    "d = {\"key\": \"value\"}"
   ]
  },
  {
   "cell_type": "code",
   "execution_count": null,
   "metadata": {},
   "outputs": [],
   "source": [
    "d"
   ]
  },
  {
   "cell_type": "code",
   "execution_count": null,
   "metadata": {},
   "outputs": [],
   "source": [
    "d2 = {\"name\": \"Mona-Lisa\", \n",
    "     \"age\": 516}"
   ]
  },
  {
   "cell_type": "code",
   "execution_count": null,
   "metadata": {},
   "outputs": [],
   "source": [
    "d2"
   ]
  },
  {
   "cell_type": "markdown",
   "metadata": {},
   "source": [
    "**Functions:**  Functions are used to perform operations on the data. "
   ]
  },
  {
   "cell_type": "code",
   "execution_count": 5,
   "metadata": {},
   "outputs": [
    {
     "data": {
      "text/plain": [
       "12"
      ]
     },
     "execution_count": 5,
     "metadata": {},
     "output_type": "execute_result"
    }
   ],
   "source": [
    "x = 5\n",
    "y = 7\n",
    "sum([x,y])"
   ]
  },
  {
   "cell_type": "markdown",
   "metadata": {},
   "source": [
    "Python contains some built-in functions such as `sum()`, but they are limited. You can import additional functions from packages. These are the one that we need for our analysis"
   ]
  },
  {
   "cell_type": "code",
   "execution_count": null,
   "metadata": {},
   "outputs": [],
   "source": [
    "# These are just some imports, which means loading additional functionalities in Python. Just ignore this. \n",
    "from ipyleaflet import Map, Marker, GeoData, basemaps,ScaleControl, LayersControl, GeoJSON\n",
    "from ipywidgets import Layout\n",
    "import json\n",
    "import os\n",
    "import pandas as pd\n",
    "import geopandas as gpd\n",
    "import pandas as pd\n",
    "from shapely.geometry import Point"
   ]
  },
  {
   "cell_type": "markdown",
   "metadata": {},
   "source": [
    "## Create a list of potential apartments\n",
    "\n",
    "We store the locations of three potential appartments which we may have found online in a dictionary with geographic coordinates."
   ]
  },
  {
   "cell_type": "markdown",
   "metadata": {},
   "source": [
    "**Exercise:** Change the coordinates of the locations or add additinal ones to the dictionary and run the analysis again.  "
   ]
  },
  {
   "cell_type": "code",
   "execution_count": 2,
   "metadata": {},
   "outputs": [],
   "source": [
    "apartments = {'0': {'location': [9.981727, 53.552018]}, # longitude, latitude\n",
    "              '1': {'location': [9.921727, 53.552018]},\n",
    "              '2': {'location': [9.981727, 53.572018]}}"
   ]
  },
  {
   "cell_type": "markdown",
   "metadata": {},
   "source": [
    "Let's convert it into a table."
   ]
  },
  {
   "cell_type": "code",
   "execution_count": 3,
   "metadata": {},
   "outputs": [],
   "source": [
    "apartments_df = gpd.GeoDataFrame().from_dict(apartments, orient=\"index\")\n",
    "apartments_df[\"geometry\"] = apartments_df.location.map(lambda x: Point(x[0], x[1]))"
   ]
  },
  {
   "cell_type": "code",
   "execution_count": 4,
   "metadata": {},
   "outputs": [
    {
     "data": {
      "text/html": [
       "<div>\n",
       "<style scoped>\n",
       "    .dataframe tbody tr th:only-of-type {\n",
       "        vertical-align: middle;\n",
       "    }\n",
       "\n",
       "    .dataframe tbody tr th {\n",
       "        vertical-align: top;\n",
       "    }\n",
       "\n",
       "    .dataframe thead th {\n",
       "        text-align: right;\n",
       "    }\n",
       "</style>\n",
       "<table border=\"1\" class=\"dataframe\">\n",
       "  <thead>\n",
       "    <tr style=\"text-align: right;\">\n",
       "      <th></th>\n",
       "      <th>location</th>\n",
       "      <th>geometry</th>\n",
       "    </tr>\n",
       "  </thead>\n",
       "  <tbody>\n",
       "    <tr>\n",
       "      <th>0</th>\n",
       "      <td>[9.981727, 53.552018]</td>\n",
       "      <td>POINT (9.98173 53.55202)</td>\n",
       "    </tr>\n",
       "    <tr>\n",
       "      <th>1</th>\n",
       "      <td>[9.921727, 53.552018]</td>\n",
       "      <td>POINT (9.92173 53.55202)</td>\n",
       "    </tr>\n",
       "    <tr>\n",
       "      <th>2</th>\n",
       "      <td>[9.981727, 53.572018]</td>\n",
       "      <td>POINT (9.98173 53.57202)</td>\n",
       "    </tr>\n",
       "  </tbody>\n",
       "</table>\n",
       "</div>"
      ],
      "text/plain": [
       "                location                  geometry\n",
       "0  [9.981727, 53.552018]  POINT (9.98173 53.55202)\n",
       "1  [9.921727, 53.552018]  POINT (9.92173 53.55202)\n",
       "2  [9.981727, 53.572018]  POINT (9.98173 53.57202)"
      ]
     },
     "execution_count": 4,
     "metadata": {},
     "output_type": "execute_result"
    }
   ],
   "source": [
    "apartments_df"
   ]
  },
  {
   "cell_type": "markdown",
   "metadata": {},
   "source": [
    "### Map of apartments"
   ]
  },
  {
   "cell_type": "code",
   "execution_count": 5,
   "metadata": {},
   "outputs": [
    {
     "data": {
      "application/vnd.jupyter.widget-view+json": {
       "model_id": "ac7cdf58b79f4ad884fd3eedd877e809",
       "version_major": 2,
       "version_minor": 0
      },
      "text/plain": [
       "Map(center=[53.558684666666664, 9.961727], controls=(ZoomControl(options=['position', 'zoom_in_text', 'zoom_in…"
      ]
     },
     "metadata": {},
     "output_type": "display_data"
    }
   ],
   "source": [
    "# Create map with basemap\n",
    "map_center = list(apartments_df.dissolve().centroid[0].coords)[0]\n",
    "m = Map(center=map_center[::-1], zoom=13, scroll_wheel_zoom=True, basemap=basemaps.CartoDB.Positron)\n",
    "\n",
    "# Add appartments as points\n",
    "apartment_layer = GeoData(geo_dataframe = apartments_df,\n",
    "    style={'color': 'black', \n",
    "           'radius':8, \n",
    "           'fillColor': '#3366cc', \n",
    "           'opacity':0.5, \n",
    "           'weight':1.9, \n",
    "           'dashArray':'2', \n",
    "           'fillOpacity':0.6},\n",
    "    hover_style={'fillColor': 'red' , \n",
    "                 'fillOpacity': 0.2},\n",
    "    point_style={'radius': 5, \n",
    "                 'color': 'red', \n",
    "                 'fillOpacity': 0.8, \n",
    "                 'fillColor': 'blue', \n",
    "                 'weight': 3},\n",
    "    name = 'Apartments')\n",
    "m.add_layer(apartment_layer)\n",
    "\n",
    "# Add a scale to map \n",
    "m.add_control(ScaleControl(position='bottomleft'))\n",
    "# Add layer control \n",
    "control = LayersControl(position='topright')\n",
    "m.add_control(control)\n",
    "\n",
    "display(m)"
   ]
  },
  {
   "cell_type": "markdown",
   "metadata": {},
   "source": [
    "## Count number of restaurants nearby each appartment\n",
    "\n",
    "Let's assume it is very important to you that you have many restaurants in walking distance of your apartment. So we will count how many restaurants are within a 500 meter walking distance of each appartment. There are two steps: \n",
    "\n",
    "1. Calculate the area within 500 meter walking distance around each appartment using openrouteservice isochrones\n",
    "2. Downloading and coubnting the restaurants from OpenStreetMap using the ohsome API. "
   ]
  },
  {
   "cell_type": "markdown",
   "metadata": {},
   "source": [
    "### 1. Create isochrones around each apartment"
   ]
  },
  {
   "cell_type": "markdown",
   "metadata": {},
   "source": [
    "First, we will request the isochrones around each apartment and visualize them in the map. For details about the parameters see the [ORS documentation](https://openrouteservice.org/dev/#/api-docs/isochrones). Play around with the settings to find out what each variable is for."
   ]
  },
  {
   "cell_type": "markdown",
   "metadata": {},
   "source": [
    "In order to use the OpenRouteSerive API, you need to [create an account and generate a free API key](https://openrouteservice.org/dev/#/login). You can use your github account for it."
   ]
  },
  {
   "cell_type": "code",
   "execution_count": 7,
   "metadata": {},
   "outputs": [],
   "source": [
    "from openrouteservice import client"
   ]
  },
  {
   "cell_type": "code",
   "execution_count": 7,
   "metadata": {},
   "outputs": [],
   "source": [
    "ors_api_key = '5b3ce3597851110001cf6248eef794d1244544f7826f417356aee9e4' #Replace this with your own personal ORS API key"
   ]
  },
  {
   "cell_type": "code",
   "execution_count": 8,
   "metadata": {},
   "outputs": [],
   "source": [
    "ors_client = client.Client(key=ors_api_key) "
   ]
  },
  {
   "cell_type": "markdown",
   "metadata": {},
   "source": [
    "**Execise:** Switch the routing profile to cycling by replacing `foot-walking` with `cycling-regular` and run the cells below again to create new isochrones. "
   ]
  },
  {
   "cell_type": "code",
   "execution_count": 21,
   "metadata": {},
   "outputs": [],
   "source": [
    "ors_settings = {'profile': 'foot-walking', # ORS routing profile\n",
    "              'intervals': [500], # Interval of isochrones in min if range_type=time\n",
    "              'segments': 500, \n",
    "              'range_type':  'time', #Type of isochones: time or distance\n",
    "              'attributes': ['area'], # Get area of each isochrone\n",
    "              'locations' : list(apartments_df.location)\n",
    "             }"
   ]
  },
  {
   "cell_type": "code",
   "execution_count": 10,
   "metadata": {},
   "outputs": [],
   "source": [
    "isochrones = ors_client.isochrones(**ors_settings) "
   ]
  },
  {
   "cell_type": "markdown",
   "metadata": {
    "tags": []
   },
   "source": [
    "#### Map with appartments and isochfrom_dict"
   ]
  },
  {
   "cell_type": "code",
   "execution_count": 11,
   "metadata": {},
   "outputs": [
    {
     "data": {
      "application/vnd.jupyter.widget-view+json": {
       "model_id": "bb857dad0658491bb1b2dcd182e351c3",
       "version_major": 2,
       "version_minor": 0
      },
      "text/plain": [
       "Map(center=[53.558684666666664, 9.961727], controls=(ZoomControl(options=['position', 'zoom_in_text', 'zoom_in…"
      ]
     },
     "metadata": {},
     "output_type": "display_data"
    }
   ],
   "source": [
    "# Create map with basemap (available basemaps: https://ipyleaflet.readthedocs.io/en/latest/api_reference/basemaps.html)\n",
    "m = Map(center=map_center[::-1], zoom=13, scroll_wheel_zoom=True, basemap=basemaps.CartoDB.Positron)\n",
    "\n",
    "# Add isochrones \n",
    "isochones_layer = GeoJSON(\n",
    "    data=isochrones,\n",
    "    style={\n",
    "        'opacity': 1, 'dashArray': '9', 'fillOpacity': 0.1, 'weight': 1\n",
    "    },\n",
    "    hover_style={\n",
    "        'color': 'white', 'dashArray': '0', 'fillOpacity': 0.5\n",
    "    })\n",
    "m.add_layer(isochones_layer)\n",
    "\n",
    "# Add appartments as points\n",
    "apartment_layer = GeoData(geo_dataframe = apartments_df,\n",
    "    style={'color': 'black', \n",
    "           'radius':8, \n",
    "           'fillColor': '#3366cc', \n",
    "           'opacity':0.5, \n",
    "           'weight':1.9, \n",
    "           'dashArray':'2', \n",
    "           'fillOpacity':0.6},\n",
    "    hover_style={'fillColor': 'red' , \n",
    "                 'fillOpacity': 0.2},\n",
    "    point_style={'radius': 5, \n",
    "                 'color': 'red', \n",
    "                 'fillOpacity': 0.8, \n",
    "                 'fillColor': 'blue', \n",
    "                 'weight': 3},\n",
    "    name = 'Apartments')\n",
    "m.add_layer(apartment_layer)\n",
    "\n",
    "# Add a scale to map \n",
    "m.add_control(ScaleControl(position='bottomleft'))\n",
    "\n",
    "control = LayersControl(position='topright')\n",
    "m.add_control(control)\n",
    "\n",
    "display(m)"
   ]
  },
  {
   "cell_type": "markdown",
   "metadata": {},
   "source": [
    "## 2. Number of restaurants nearby apartments using Ohsome API\n",
    "Now that we created the isochrones, we want to know how many restaurants there are in the neighbourhood. For this purpose, we will use the Ohsome API. "
   ]
  },
  {
   "cell_type": "code",
   "execution_count": 12,
   "metadata": {},
   "outputs": [],
   "source": [
    "import ohsome\n",
    "ohsome_client = ohsome.OhsomeClient()"
   ]
  },
  {
   "cell_type": "markdown",
   "metadata": {},
   "source": [
    "### 2.1. Download restaurants as features to visualized them on the map"
   ]
  },
  {
   "cell_type": "markdown",
   "metadata": {},
   "source": [
    "**Exercise:** Set a different tag in the the `osm_filter`. "
   ]
  },
  {
   "cell_type": "code",
   "execution_count": 13,
   "metadata": {},
   "outputs": [],
   "source": [
    "osm_filer = \"amenity=restaurant\""
   ]
  },
  {
   "cell_type": "code",
   "execution_count": 14,
   "metadata": {},
   "outputs": [],
   "source": [
    "restaurant_features = ohsome_client.elements.centroid.post(bpolys=json.dumps(isochrones),\n",
    "                                                           properties=\"tags\",\n",
    "                                                             filter=osm_filer)\n",
    "restaurants_df = restaurant_features.as_dataframe()"
   ]
  },
  {
   "cell_type": "code",
   "execution_count": 15,
   "metadata": {},
   "outputs": [
    {
     "data": {
      "text/html": [
       "<div>\n",
       "<style scoped>\n",
       "    .dataframe tbody tr th:only-of-type {\n",
       "        vertical-align: middle;\n",
       "    }\n",
       "\n",
       "    .dataframe tbody tr th {\n",
       "        vertical-align: top;\n",
       "    }\n",
       "\n",
       "    .dataframe thead th {\n",
       "        text-align: right;\n",
       "    }\n",
       "</style>\n",
       "<table border=\"1\" class=\"dataframe\">\n",
       "  <thead>\n",
       "    <tr style=\"text-align: right;\">\n",
       "      <th></th>\n",
       "      <th></th>\n",
       "      <th>geometry</th>\n",
       "      <th>addr:city</th>\n",
       "      <th>addr:country</th>\n",
       "      <th>addr:housenumber</th>\n",
       "      <th>addr:postcode</th>\n",
       "      <th>addr:street</th>\n",
       "      <th>amenity</th>\n",
       "      <th>buildingpart</th>\n",
       "      <th>floor</th>\n",
       "      <th>name</th>\n",
       "      <th>...</th>\n",
       "      <th>description</th>\n",
       "      <th>internet_access</th>\n",
       "      <th>layer</th>\n",
       "      <th>vegetarian</th>\n",
       "      <th>fixme</th>\n",
       "      <th>opening_hours:covid19</th>\n",
       "      <th>contact:email</th>\n",
       "      <th>bar</th>\n",
       "      <th>image</th>\n",
       "      <th>entrance</th>\n",
       "    </tr>\n",
       "    <tr>\n",
       "      <th>@osmId</th>\n",
       "      <th>@snapshotTimestamp</th>\n",
       "      <th></th>\n",
       "      <th></th>\n",
       "      <th></th>\n",
       "      <th></th>\n",
       "      <th></th>\n",
       "      <th></th>\n",
       "      <th></th>\n",
       "      <th></th>\n",
       "      <th></th>\n",
       "      <th></th>\n",
       "      <th></th>\n",
       "      <th></th>\n",
       "      <th></th>\n",
       "      <th></th>\n",
       "      <th></th>\n",
       "      <th></th>\n",
       "      <th></th>\n",
       "      <th></th>\n",
       "      <th></th>\n",
       "      <th></th>\n",
       "      <th></th>\n",
       "    </tr>\n",
       "  </thead>\n",
       "  <tbody>\n",
       "    <tr>\n",
       "      <th>node/1077489885</th>\n",
       "      <th>2022-02-07 15:00:00</th>\n",
       "      <td>POINT (9.92646 53.55541)</td>\n",
       "      <td>Hamburg</td>\n",
       "      <td>DE</td>\n",
       "      <td>34a</td>\n",
       "      <td>22765</td>\n",
       "      <td>Friedensallee</td>\n",
       "      <td>restaurant</td>\n",
       "      <td>NaN</td>\n",
       "      <td>NaN</td>\n",
       "      <td>El Iberico</td>\n",
       "      <td>...</td>\n",
       "      <td>NaN</td>\n",
       "      <td>NaN</td>\n",
       "      <td>NaN</td>\n",
       "      <td>NaN</td>\n",
       "      <td>NaN</td>\n",
       "      <td>NaN</td>\n",
       "      <td>NaN</td>\n",
       "      <td>NaN</td>\n",
       "      <td>NaN</td>\n",
       "      <td>NaN</td>\n",
       "    </tr>\n",
       "    <tr>\n",
       "      <th>node/1078576284</th>\n",
       "      <th>2022-02-07 15:00:00</th>\n",
       "      <td>POINT (9.92701 53.55040)</td>\n",
       "      <td>Hamburg</td>\n",
       "      <td>DE</td>\n",
       "      <td>42</td>\n",
       "      <td>22765</td>\n",
       "      <td>Eulenstraße</td>\n",
       "      <td>restaurant</td>\n",
       "      <td>NaN</td>\n",
       "      <td>NaN</td>\n",
       "      <td>Brasserie La Provence</td>\n",
       "      <td>...</td>\n",
       "      <td>NaN</td>\n",
       "      <td>NaN</td>\n",
       "      <td>NaN</td>\n",
       "      <td>NaN</td>\n",
       "      <td>NaN</td>\n",
       "      <td>NaN</td>\n",
       "      <td>NaN</td>\n",
       "      <td>NaN</td>\n",
       "      <td>NaN</td>\n",
       "      <td>NaN</td>\n",
       "    </tr>\n",
       "    <tr>\n",
       "      <th>node/1162424649</th>\n",
       "      <th>2022-02-07 15:00:00</th>\n",
       "      <td>POINT (9.92304 53.54823)</td>\n",
       "      <td>NaN</td>\n",
       "      <td>NaN</td>\n",
       "      <td>NaN</td>\n",
       "      <td>NaN</td>\n",
       "      <td>NaN</td>\n",
       "      <td>restaurant</td>\n",
       "      <td>NaN</td>\n",
       "      <td>NaN</td>\n",
       "      <td>HACO Greenhouse</td>\n",
       "      <td>...</td>\n",
       "      <td>NaN</td>\n",
       "      <td>NaN</td>\n",
       "      <td>NaN</td>\n",
       "      <td>NaN</td>\n",
       "      <td>NaN</td>\n",
       "      <td>NaN</td>\n",
       "      <td>NaN</td>\n",
       "      <td>NaN</td>\n",
       "      <td>NaN</td>\n",
       "      <td>NaN</td>\n",
       "    </tr>\n",
       "    <tr>\n",
       "      <th>node/1342652460</th>\n",
       "      <th>2022-02-07 15:00:00</th>\n",
       "      <td>POINT (9.92890 53.55399)</td>\n",
       "      <td>NaN</td>\n",
       "      <td>NaN</td>\n",
       "      <td>NaN</td>\n",
       "      <td>NaN</td>\n",
       "      <td>NaN</td>\n",
       "      <td>restaurant</td>\n",
       "      <td>NaN</td>\n",
       "      <td>NaN</td>\n",
       "      <td>Piazza Italiana</td>\n",
       "      <td>...</td>\n",
       "      <td>NaN</td>\n",
       "      <td>NaN</td>\n",
       "      <td>NaN</td>\n",
       "      <td>NaN</td>\n",
       "      <td>NaN</td>\n",
       "      <td>NaN</td>\n",
       "      <td>NaN</td>\n",
       "      <td>NaN</td>\n",
       "      <td>NaN</td>\n",
       "      <td>NaN</td>\n",
       "    </tr>\n",
       "    <tr>\n",
       "      <th>node/1357756659</th>\n",
       "      <th>2022-02-07 15:00:00</th>\n",
       "      <td>POINT (9.92881 53.55433)</td>\n",
       "      <td>Hamburg</td>\n",
       "      <td>DE</td>\n",
       "      <td>170</td>\n",
       "      <td>22765</td>\n",
       "      <td>Bahrenfelder Straße</td>\n",
       "      <td>restaurant</td>\n",
       "      <td>NaN</td>\n",
       "      <td>NaN</td>\n",
       "      <td>Wild Rice</td>\n",
       "      <td>...</td>\n",
       "      <td>NaN</td>\n",
       "      <td>NaN</td>\n",
       "      <td>NaN</td>\n",
       "      <td>NaN</td>\n",
       "      <td>NaN</td>\n",
       "      <td>NaN</td>\n",
       "      <td>NaN</td>\n",
       "      <td>NaN</td>\n",
       "      <td>NaN</td>\n",
       "      <td>NaN</td>\n",
       "    </tr>\n",
       "  </tbody>\n",
       "</table>\n",
       "<p>5 rows × 74 columns</p>\n",
       "</div>"
      ],
      "text/plain": [
       "                                                     geometry addr:city  \\\n",
       "@osmId          @snapshotTimestamp                                        \n",
       "node/1077489885 2022-02-07 15:00:00  POINT (9.92646 53.55541)   Hamburg   \n",
       "node/1078576284 2022-02-07 15:00:00  POINT (9.92701 53.55040)   Hamburg   \n",
       "node/1162424649 2022-02-07 15:00:00  POINT (9.92304 53.54823)       NaN   \n",
       "node/1342652460 2022-02-07 15:00:00  POINT (9.92890 53.55399)       NaN   \n",
       "node/1357756659 2022-02-07 15:00:00  POINT (9.92881 53.55433)   Hamburg   \n",
       "\n",
       "                                    addr:country addr:housenumber  \\\n",
       "@osmId          @snapshotTimestamp                                  \n",
       "node/1077489885 2022-02-07 15:00:00           DE              34a   \n",
       "node/1078576284 2022-02-07 15:00:00           DE               42   \n",
       "node/1162424649 2022-02-07 15:00:00          NaN              NaN   \n",
       "node/1342652460 2022-02-07 15:00:00          NaN              NaN   \n",
       "node/1357756659 2022-02-07 15:00:00           DE              170   \n",
       "\n",
       "                                    addr:postcode          addr:street  \\\n",
       "@osmId          @snapshotTimestamp                                       \n",
       "node/1077489885 2022-02-07 15:00:00         22765        Friedensallee   \n",
       "node/1078576284 2022-02-07 15:00:00         22765          Eulenstraße   \n",
       "node/1162424649 2022-02-07 15:00:00           NaN                  NaN   \n",
       "node/1342652460 2022-02-07 15:00:00           NaN                  NaN   \n",
       "node/1357756659 2022-02-07 15:00:00         22765  Bahrenfelder Straße   \n",
       "\n",
       "                                        amenity buildingpart floor  \\\n",
       "@osmId          @snapshotTimestamp                                   \n",
       "node/1077489885 2022-02-07 15:00:00  restaurant          NaN   NaN   \n",
       "node/1078576284 2022-02-07 15:00:00  restaurant          NaN   NaN   \n",
       "node/1162424649 2022-02-07 15:00:00  restaurant          NaN   NaN   \n",
       "node/1342652460 2022-02-07 15:00:00  restaurant          NaN   NaN   \n",
       "node/1357756659 2022-02-07 15:00:00  restaurant          NaN   NaN   \n",
       "\n",
       "                                                      name  ... description  \\\n",
       "@osmId          @snapshotTimestamp                          ...               \n",
       "node/1077489885 2022-02-07 15:00:00             El Iberico  ...         NaN   \n",
       "node/1078576284 2022-02-07 15:00:00  Brasserie La Provence  ...         NaN   \n",
       "node/1162424649 2022-02-07 15:00:00        HACO Greenhouse  ...         NaN   \n",
       "node/1342652460 2022-02-07 15:00:00        Piazza Italiana  ...         NaN   \n",
       "node/1357756659 2022-02-07 15:00:00              Wild Rice  ...         NaN   \n",
       "\n",
       "                                    internet_access layer vegetarian fixme  \\\n",
       "@osmId          @snapshotTimestamp                                           \n",
       "node/1077489885 2022-02-07 15:00:00             NaN   NaN        NaN   NaN   \n",
       "node/1078576284 2022-02-07 15:00:00             NaN   NaN        NaN   NaN   \n",
       "node/1162424649 2022-02-07 15:00:00             NaN   NaN        NaN   NaN   \n",
       "node/1342652460 2022-02-07 15:00:00             NaN   NaN        NaN   NaN   \n",
       "node/1357756659 2022-02-07 15:00:00             NaN   NaN        NaN   NaN   \n",
       "\n",
       "                                    opening_hours:covid19 contact:email  bar  \\\n",
       "@osmId          @snapshotTimestamp                                             \n",
       "node/1077489885 2022-02-07 15:00:00                   NaN           NaN  NaN   \n",
       "node/1078576284 2022-02-07 15:00:00                   NaN           NaN  NaN   \n",
       "node/1162424649 2022-02-07 15:00:00                   NaN           NaN  NaN   \n",
       "node/1342652460 2022-02-07 15:00:00                   NaN           NaN  NaN   \n",
       "node/1357756659 2022-02-07 15:00:00                   NaN           NaN  NaN   \n",
       "\n",
       "                                    image entrance  \n",
       "@osmId          @snapshotTimestamp                  \n",
       "node/1077489885 2022-02-07 15:00:00   NaN      NaN  \n",
       "node/1078576284 2022-02-07 15:00:00   NaN      NaN  \n",
       "node/1162424649 2022-02-07 15:00:00   NaN      NaN  \n",
       "node/1342652460 2022-02-07 15:00:00   NaN      NaN  \n",
       "node/1357756659 2022-02-07 15:00:00   NaN      NaN  \n",
       "\n",
       "[5 rows x 74 columns]"
      ]
     },
     "execution_count": 15,
     "metadata": {},
     "output_type": "execute_result"
    }
   ],
   "source": [
    "restaurants_df.head()"
   ]
  },
  {
   "cell_type": "markdown",
   "metadata": {},
   "source": [
    "### 2.2. Intersect isochrones with restaurants and count them"
   ]
  },
  {
   "cell_type": "markdown",
   "metadata": {},
   "source": [
    "We convert the isochrones into a dataframe called `isochrones_df` and intersect it with the dataframe `restaurants_df` containing the restaurants."
   ]
  },
  {
   "cell_type": "code",
   "execution_count": 16,
   "metadata": {},
   "outputs": [],
   "source": [
    "isochones_df = gpd.GeoDataFrame.from_features(isochrones['features'], crs=\"epsg:4326\")\n",
    "isochrone_restaurants = gpd.sjoin(restaurants_df, isochones_df, how=\"left\").groupby(\"group_index\").count()\n",
    "apartments_df[\"restaurants\"] = list(isochrone_restaurants[\"amenity\"])"
   ]
  },
  {
   "cell_type": "code",
   "execution_count": 17,
   "metadata": {},
   "outputs": [
    {
     "data": {
      "text/html": [
       "<div>\n",
       "<style scoped>\n",
       "    .dataframe tbody tr th:only-of-type {\n",
       "        vertical-align: middle;\n",
       "    }\n",
       "\n",
       "    .dataframe tbody tr th {\n",
       "        vertical-align: top;\n",
       "    }\n",
       "\n",
       "    .dataframe thead th {\n",
       "        text-align: right;\n",
       "    }\n",
       "</style>\n",
       "<table border=\"1\" class=\"dataframe\">\n",
       "  <thead>\n",
       "    <tr style=\"text-align: right;\">\n",
       "      <th></th>\n",
       "      <th>location</th>\n",
       "      <th>geometry</th>\n",
       "      <th>restaurants</th>\n",
       "    </tr>\n",
       "  </thead>\n",
       "  <tbody>\n",
       "    <tr>\n",
       "      <th>0</th>\n",
       "      <td>[9.981727, 53.552018]</td>\n",
       "      <td>POINT (9.98173 53.55202)</td>\n",
       "      <td>73</td>\n",
       "    </tr>\n",
       "    <tr>\n",
       "      <th>1</th>\n",
       "      <td>[9.921727, 53.552018]</td>\n",
       "      <td>POINT (9.92173 53.55202)</td>\n",
       "      <td>23</td>\n",
       "    </tr>\n",
       "    <tr>\n",
       "      <th>2</th>\n",
       "      <td>[9.981727, 53.572018]</td>\n",
       "      <td>POINT (9.98173 53.57202)</td>\n",
       "      <td>39</td>\n",
       "    </tr>\n",
       "  </tbody>\n",
       "</table>\n",
       "</div>"
      ],
      "text/plain": [
       "                location                  geometry  restaurants\n",
       "0  [9.981727, 53.552018]  POINT (9.98173 53.55202)           73\n",
       "1  [9.921727, 53.552018]  POINT (9.92173 53.55202)           23\n",
       "2  [9.981727, 53.572018]  POINT (9.98173 53.57202)           39"
      ]
     },
     "execution_count": 17,
     "metadata": {},
     "output_type": "execute_result"
    }
   ],
   "source": [
    "apartments_df"
   ]
  },
  {
   "cell_type": "markdown",
   "metadata": {},
   "source": [
    "### Alternative:  Count number of restaurants within isochrones using ohsome API"
   ]
  },
  {
   "cell_type": "markdown",
   "metadata": {},
   "source": [
    "Alternatively, we could have calculated the number of restauratans within in each isochrone also using the ohsome API directly without downloading the restaurant features. "
   ]
  },
  {
   "cell_type": "code",
   "execution_count": 18,
   "metadata": {},
   "outputs": [],
   "source": [
    "response = ohsome_client.elements.count.groupByBoundary.post(bpolys=json.dumps(isochrones),\n",
    "                                                             filter=\"amenity=restaurant\")\n",
    "restaurants = response.as_dataframe()[\"value\"]\n",
    "apartments_df[\"restaurants_ohsome\"] = list(restaurants)"
   ]
  },
  {
   "cell_type": "code",
   "execution_count": 19,
   "metadata": {},
   "outputs": [
    {
     "data": {
      "text/html": [
       "<div>\n",
       "<style scoped>\n",
       "    .dataframe tbody tr th:only-of-type {\n",
       "        vertical-align: middle;\n",
       "    }\n",
       "\n",
       "    .dataframe tbody tr th {\n",
       "        vertical-align: top;\n",
       "    }\n",
       "\n",
       "    .dataframe thead th {\n",
       "        text-align: right;\n",
       "    }\n",
       "</style>\n",
       "<table border=\"1\" class=\"dataframe\">\n",
       "  <thead>\n",
       "    <tr style=\"text-align: right;\">\n",
       "      <th></th>\n",
       "      <th>location</th>\n",
       "      <th>geometry</th>\n",
       "      <th>restaurants</th>\n",
       "      <th>restaurants_ohsome</th>\n",
       "    </tr>\n",
       "  </thead>\n",
       "  <tbody>\n",
       "    <tr>\n",
       "      <th>0</th>\n",
       "      <td>[9.981727, 53.552018]</td>\n",
       "      <td>POINT (9.98173 53.55202)</td>\n",
       "      <td>73</td>\n",
       "      <td>73.0</td>\n",
       "    </tr>\n",
       "    <tr>\n",
       "      <th>1</th>\n",
       "      <td>[9.921727, 53.552018]</td>\n",
       "      <td>POINT (9.92173 53.55202)</td>\n",
       "      <td>23</td>\n",
       "      <td>23.0</td>\n",
       "    </tr>\n",
       "    <tr>\n",
       "      <th>2</th>\n",
       "      <td>[9.981727, 53.572018]</td>\n",
       "      <td>POINT (9.98173 53.57202)</td>\n",
       "      <td>39</td>\n",
       "      <td>39.0</td>\n",
       "    </tr>\n",
       "  </tbody>\n",
       "</table>\n",
       "</div>"
      ],
      "text/plain": [
       "                location                  geometry  restaurants  \\\n",
       "0  [9.981727, 53.552018]  POINT (9.98173 53.55202)           73   \n",
       "1  [9.921727, 53.552018]  POINT (9.92173 53.55202)           23   \n",
       "2  [9.981727, 53.572018]  POINT (9.98173 53.57202)           39   \n",
       "\n",
       "   restaurants_ohsome  \n",
       "0                73.0  \n",
       "1                23.0  \n",
       "2                39.0  "
      ]
     },
     "execution_count": 19,
     "metadata": {},
     "output_type": "execute_result"
    }
   ],
   "source": [
    "apartments_df"
   ]
  },
  {
   "cell_type": "markdown",
   "metadata": {},
   "source": [
    "### Map with apartments and restaurants"
   ]
  },
  {
   "cell_type": "markdown",
   "metadata": {},
   "source": [
    "**Exercise:** You may adapt the style of the final map by change some of the parameters, e.g. the color or radius of the points in the dictionary, e.g. set `'radius':5`. You may also change the basemap by replacing the value of `basemap=basemaps.CartoDB.Positron` in the first two lines e.g. set it to `basemap=basemaps.OpenStreetMap.Mapnik`. Refer to the documentation for [available basemaps](https://ipyleaflet.readthedocs.io/en/latest/api_reference/basemaps.html)."
   ]
  },
  {
   "cell_type": "code",
   "execution_count": 20,
   "metadata": {},
   "outputs": [
    {
     "data": {
      "application/vnd.jupyter.widget-view+json": {
       "model_id": "b3c20308288d4d5d8d36f1c74ba1985b",
       "version_major": 2,
       "version_minor": 0
      },
      "text/plain": [
       "Map(center=[53.558684666666664, 9.961727], controls=(ZoomControl(options=['position', 'zoom_in_text', 'zoom_in…"
      ]
     },
     "metadata": {},
     "output_type": "display_data"
    }
   ],
   "source": [
    "# Create map with basemap (available basemaps: https://ipyleaflet.readthedocs.io/en/latest/api_reference/basemaps.html)\n",
    "m = Map(center=map_center[::-1], zoom=13, scroll_wheel_zoom=True, layout=Layout(width='100%', height='500px'),\n",
    "        basemap=basemaps.CartoDB.Positron)\n",
    "\n",
    "# Add isochrones \n",
    "isochones_layer = GeoJSON(\n",
    "    data=isochrones,\n",
    "    style={\n",
    "        'opacity': 1, 'dashArray': '9', 'fillOpacity': 0.1, 'weight': 1\n",
    "    },\n",
    "    hover_style={\n",
    "        'color': 'white', 'dashArray': '0', 'fillOpacity': 0.5\n",
    "    })\n",
    "m.add_layer(isochones_layer)\n",
    "\n",
    "# Add appartments as points\n",
    "apartment_layer = GeoData(geo_dataframe = apartments_df,\n",
    "    style={'color': 'black', \n",
    "           'radius':8, \n",
    "           'fillColor': '#3366cc', \n",
    "           'opacity':0.5, \n",
    "           'weight':1.9, \n",
    "           'dashArray':'2', \n",
    "           'fillOpacity':0.6},\n",
    "    hover_style={'fillColor': 'red' , \n",
    "                 'fillOpacity': 0.2},\n",
    "    point_style={'radius': 5, \n",
    "                 'color': 'red', \n",
    "                 'fillOpacity': 0.8, \n",
    "                 'fillColor': 'blue', \n",
    "                 'weight': 3},\n",
    "    name = 'Apartments')\n",
    "m.add_layer(apartment_layer)\n",
    "\n",
    "# Add restaurants as points\n",
    "restaurants_layer = GeoData(geo_dataframe = restaurants_df,\n",
    "    style={'color': 'black', \n",
    "           'radius':4, \n",
    "           'fillColor': 'red', \n",
    "           'opacity':0.5, \n",
    "           'weight':1.9, \n",
    "           'dashArray':'2', \n",
    "           'fillOpacity':0.6},\n",
    "    hover_style={'fillColor': 'red' , \n",
    "                 'fillOpacity': 0.2},\n",
    "    point_style={'radius': 5, \n",
    "                 'color': 'red', \n",
    "                 'fillOpacity': 0.8, \n",
    "                 'fillColor': 'blue', \n",
    "                 'weight': 3},\n",
    "    name = 'Restaurants')\n",
    "\n",
    "m.add_layer(restaurants_layer)\n",
    "\n",
    "# Add a scale to map \n",
    "m.add_control(ScaleControl(position='bottomleft'))\n",
    "\n",
    "control = LayersControl(position='topright')\n",
    "m.add_control(control)\n",
    "\n",
    "display(m)"
   ]
  },
  {
   "cell_type": "code",
   "execution_count": null,
   "metadata": {},
   "outputs": [],
   "source": []
  }
 ],
 "metadata": {
  "kernelspec": {
   "display_name": "Python (advgeo)",
   "language": "python",
   "name": "advgeo"
  },
  "language_info": {
   "codemirror_mode": {
    "name": "ipython",
    "version": 3
   },
   "file_extension": ".py",
   "mimetype": "text/x-python",
   "name": "python",
   "nbconvert_exporter": "python",
   "pygments_lexer": "ipython3",
   "version": "3.8.3"
  }
 },
 "nbformat": 4,
 "nbformat_minor": 4
}
